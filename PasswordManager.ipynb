{
 "cells": [
  {
   "cell_type": "code",
   "execution_count": 21,
   "id": "4bb68e36-c33d-43ac-b7f4-c3a3dd8868b4",
   "metadata": {},
   "outputs": [
    {
     "name": "stdin",
     "output_type": "stream",
     "text": [
      "Would you like to add a new password or view existing ones (view, add), press q to quit?  view\n"
     ]
    },
    {
     "name": "stdout",
     "output_type": "stream",
     "text": [
      "Invalid token. The data may have been tampered with or the key is incorrect.\n",
      "Failed to decrypt password for Rutuja\n",
      "Invalid token. The data may have been tampered with or the key is incorrect.\n",
      "Failed to decrypt password for Ram\n",
      "Invalid token. The data may have been tampered with or the key is incorrect.\n",
      "Failed to decrypt password for facebook\n",
      "Invalid token. The data may have been tampered with or the key is incorrect.\n",
      "Failed to decrypt password for Instagram\n",
      "Invalid token. The data may have been tampered with or the key is incorrect.\n",
      "Failed to decrypt password for google\n",
      "Invalid token. The data may have been tampered with or the key is incorrect.\n",
      "Failed to decrypt password for Rohit\n",
      "User: mahi | Password: mahi@123\n",
      "User: Kruttika | Password: Kru@123\n"
     ]
    },
    {
     "name": "stdin",
     "output_type": "stream",
     "text": [
      "Would you like to add a new password or view existing ones (view, add), press q to quit?  q\n"
     ]
    }
   ],
   "source": [
    "from cryptography.fernet import Fernet, InvalidToken\n",
    "\n",
    "def write_key():\n",
    "   \n",
    "    key = Fernet.generate_key()\n",
    "    with open(\"key.key\", \"wb\") as key_file:\n",
    "        key_file.write(key)\n",
    "\n",
    "def load_key():\n",
    "   \n",
    "    if not os.path.exists(\"key.key\"):\n",
    "        print(\"Key file not found. Please generate a new key.\")\n",
    "        return None\n",
    "    with open(\"key.key\", \"rb\") as key_file:\n",
    "        key = key_file.read()\n",
    "    return key\n",
    "def add_password():\n",
    "   \n",
    "    name = input('Account Name: ')\n",
    "    pwd = input(\"Password: \")\n",
    "    encrypted_pwd = encrypt_password(pwd)\n",
    "    if encrypted_pwd is not None:\n",
    "        with open('passwords.txt', 'a') as f:\n",
    "            f.write(f\"{name}|{encrypted_pwd.decode()}\\n\")\n",
    "\n",
    "def view_passwords():\n",
    "   \n",
    "    try:\n",
    "        with open('passwords.txt', 'r') as f:\n",
    "            for line in f.readlines():\n",
    "                user, encrypted_passw = line.strip().split(\"|\")\n",
    "                decrypted_passw = decrypt_password(encrypted_passw.encode())\n",
    "                if decrypted_passw:\n",
    "                    print(f\"User: {user} | Password: {decrypted_passw}\")\n",
    "                else:\n",
    "                    print(f\"Failed to decrypt password for {user}\")\n",
    "    except FileNotFoundError:\n",
    "        print(\"Passwords file not found.\")\n",
    "\n",
    "def main():\n",
    "    # Ensure a key exists before proceeding\n",
    "    if not os.path.exists(\"key.key\"):\n",
    "        write_key()\n",
    "    \n",
    "    while True:\n",
    "        mode = input(\"Would you like to add a new password or view existing ones (view, add), press q to quit? \").lower()\n",
    "        if mode == \"q\":\n",
    "            break\n",
    "        elif mode == \"view\":\n",
    "            view_passwords()\n",
    "        elif mode == \"add\":\n",
    "            add_password()\n",
    "        else:\n",
    "            print(\"Invalid mode.\")\n",
    "            continue\n",
    "\n",
    "if __name__ == \"__main__\":\n",
    "    main()"
   ]
  },
  {
   "cell_type": "code",
   "execution_count": null,
   "id": "fac320f0-1695-4687-b2d3-e96ae1affcbe",
   "metadata": {},
   "outputs": [],
   "source": []
  }
 ],
 "metadata": {
  "kernelspec": {
   "display_name": "Python 3 (ipykernel)",
   "language": "python",
   "name": "python3"
  },
  "language_info": {
   "codemirror_mode": {
    "name": "ipython",
    "version": 3
   },
   "file_extension": ".py",
   "mimetype": "text/x-python",
   "name": "python",
   "nbconvert_exporter": "python",
   "pygments_lexer": "ipython3",
   "version": "3.12.2"
  }
 },
 "nbformat": 4,
 "nbformat_minor": 5
}
